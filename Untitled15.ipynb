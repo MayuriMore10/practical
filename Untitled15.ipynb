{
  "nbformat": 4,
  "nbformat_minor": 0,
  "metadata": {
    "colab": {
      "provenance": [],
      "authorship_tag": "ABX9TyNZY6j9tny7/e1SZey9KFLH",
      "include_colab_link": true
    },
    "kernelspec": {
      "name": "python3",
      "display_name": "Python 3"
    },
    "language_info": {
      "name": "python"
    }
  },
  "cells": [
    {
      "cell_type": "markdown",
      "metadata": {
        "id": "view-in-github",
        "colab_type": "text"
      },
      "source": [
        "<a href=\"https://colab.research.google.com/github/MayuriMore10/practical/blob/main/Untitled15.ipynb\" target=\"_parent\"><img src=\"https://colab.research.google.com/assets/colab-badge.svg\" alt=\"Open In Colab\"/></a>"
      ]
    },
    {
      "cell_type": "code",
      "execution_count": 3,
      "metadata": {
        "id": "x_6cRVjoHGx0"
      },
      "outputs": [],
      "source": [
        "import\tmatplotlib.pyplot\tas\tplt\n",
        "import\tseaborn\tas\tsns\n",
        "import\tmatplotlib\tas\tmpl\n",
        "import\tmatplotlib.pylab\tas\tpylab\n",
        "import\tnumpy\tas\tnp\n",
        "\n",
        "import re"
      ]
    },
    {
      "cell_type": "code",
      "source": [
        "sentences=\"\"\"We\tare\tabout\tto\tstudy\tthe\tidea\tof\ta\tcomputational\tprocess.\n",
        " Computational\tprocesses\tare\tabstract\tbeings\tthat\tinhabit\tcomputers.\n",
        " As\tthey\tevolve,\tprocesses\tmanipulate\tother\tabstract\tthings\tcalled\tdata.\n",
        " The\tevolution\tof\ta\tprocess\tis\tdirected\tby\ta\tpattern\tof\trules\n",
        " called\ta\tprogram.\tPeople\tcreate\tprograms\tto\tdirect\tprocesses.\tIn\teffect,\n",
        " we\tconjure\tthe\tspirits\tof\tthe\tcomputer\twith\tour\tspells.\"\"\""
      ],
      "metadata": {
        "id": "DH5i10URHOdO"
      },
      "execution_count": 4,
      "outputs": []
    },
    {
      "cell_type": "code",
      "source": [
        " #\tremove\tspecial\tcharacters\n",
        "sentences=re.sub('[^A-Za-z0-9]+',\t'\t',\tsentences)\n",
        " #\tremove\t1\tletter\twords\n",
        "sentences\t=\tre.sub(r'(?:^|\t)\\w(?:$|\t)',\t'\t',\tsentences).strip()\n",
        " #\tlower\tall\tcharacters\n",
        "sentences\t=\tsentences.lower()\n",
        "sentences"
      ],
      "metadata": {
        "colab": {
          "base_uri": "https://localhost:8080/",
          "height": 70
        },
        "id": "4Fk-ootYHfKd",
        "outputId": "b5acb4bb-4919-4bb2-8c7b-c307ea236c2c"
      },
      "execution_count": 5,
      "outputs": [
        {
          "output_type": "execute_result",
          "data": {
            "text/plain": [
              "'we\\tare\\tabout\\tto\\tstudy\\tthe\\tidea\\tof\\tcomputational\\tprocess\\tcomputational\\tprocesses\\tare\\tabstract\\tbeings\\tthat\\tinhabit\\tcomputers\\tas\\tthey\\tevolve\\tprocesses\\tmanipulate\\tother\\tabstract\\tthings\\tcalled\\tdata\\tthe\\tevolution\\tof\\tprocess\\tis\\tdirected\\tby\\tpattern\\tof\\trules\\tcalled\\tprogram\\tpeople\\tcreate\\tprograms\\tto\\tdirect\\tprocesses\\tin\\teffect\\twe\\tconjure\\tthe\\tspirits\\tof\\tthe\\tcomputer\\twith\\tour\\tspells'"
            ],
            "application/vnd.google.colaboratory.intrinsic+json": {
              "type": "string"
            }
          },
          "metadata": {},
          "execution_count": 5
        }
      ]
    },
    {
      "cell_type": "code",
      "source": [
        "words\t=\tsentences.split()\n",
        "print(words)\n",
        "vocab\t=\tset(words)\n",
        "print(vocab)"
      ],
      "metadata": {
        "colab": {
          "base_uri": "https://localhost:8080/"
        },
        "id": "1cnUAVbGHo0i",
        "outputId": "dbe8719d-27a7-4d2e-dcd4-90f8577e9ab0"
      },
      "execution_count": 6,
      "outputs": [
        {
          "output_type": "stream",
          "name": "stdout",
          "text": [
            "['we', 'are', 'about', 'to', 'study', 'the', 'idea', 'of', 'computational', 'process', 'computational', 'processes', 'are', 'abstract', 'beings', 'that', 'inhabit', 'computers', 'as', 'they', 'evolve', 'processes', 'manipulate', 'other', 'abstract', 'things', 'called', 'data', 'the', 'evolution', 'of', 'process', 'is', 'directed', 'by', 'pattern', 'of', 'rules', 'called', 'program', 'people', 'create', 'programs', 'to', 'direct', 'processes', 'in', 'effect', 'we', 'conjure', 'the', 'spirits', 'of', 'the', 'computer', 'with', 'our', 'spells']\n",
            "{'the', 'programs', 'create', 'manipulate', 'people', 'about', 'processes', 'computers', 'spells', 'that', 'is', 'conjure', 'computer', 'called', 'they', 'things', 'by', 'evolve', 'evolution', 'our', 'idea', 'inhabit', 'in', 'effect', 'study', 'spirits', 'data', 'pattern', 'directed', 'with', 'program', 'abstract', 'process', 'of', 'other', 'are', 'we', 'rules', 'as', 'beings', 'direct', 'to', 'computational'}\n"
          ]
        }
      ]
    },
    {
      "cell_type": "code",
      "source": [
        "vocab_size\t=\tlen(vocab)\n",
        "embed_dim\t=\t10\n",
        "context_size\t=\t2"
      ],
      "metadata": {
        "id": "MqMRhKMRIHVL"
      },
      "execution_count": 7,
      "outputs": []
    },
    {
      "cell_type": "code",
      "source": [
        "word_to_ix\t=\t{word:\ti\tfor\ti,\tword\tin\tenumerate(vocab)}\n",
        "ix_to_word\t=\t{i:\tword\tfor\ti,\tword\tin\tenumerate(vocab)}\n",
        "print(word_to_ix)\n",
        "print(\"===========================\")\n",
        "print(ix_to_word)"
      ],
      "metadata": {
        "colab": {
          "base_uri": "https://localhost:8080/"
        },
        "id": "ecaTIU7xIMEx",
        "outputId": "3f1d0500-9f83-4fb9-a7b8-ce31412e414c"
      },
      "execution_count": 8,
      "outputs": [
        {
          "output_type": "stream",
          "name": "stdout",
          "text": [
            "{'the': 0, 'programs': 1, 'create': 2, 'manipulate': 3, 'people': 4, 'about': 5, 'processes': 6, 'computers': 7, 'spells': 8, 'that': 9, 'is': 10, 'conjure': 11, 'computer': 12, 'called': 13, 'they': 14, 'things': 15, 'by': 16, 'evolve': 17, 'evolution': 18, 'our': 19, 'idea': 20, 'inhabit': 21, 'in': 22, 'effect': 23, 'study': 24, 'spirits': 25, 'data': 26, 'pattern': 27, 'directed': 28, 'with': 29, 'program': 30, 'abstract': 31, 'process': 32, 'of': 33, 'other': 34, 'are': 35, 'we': 36, 'rules': 37, 'as': 38, 'beings': 39, 'direct': 40, 'to': 41, 'computational': 42}\n",
            "===========================\n",
            "{0: 'the', 1: 'programs', 2: 'create', 3: 'manipulate', 4: 'people', 5: 'about', 6: 'processes', 7: 'computers', 8: 'spells', 9: 'that', 10: 'is', 11: 'conjure', 12: 'computer', 13: 'called', 14: 'they', 15: 'things', 16: 'by', 17: 'evolve', 18: 'evolution', 19: 'our', 20: 'idea', 21: 'inhabit', 22: 'in', 23: 'effect', 24: 'study', 25: 'spirits', 26: 'data', 27: 'pattern', 28: 'directed', 29: 'with', 30: 'program', 31: 'abstract', 32: 'process', 33: 'of', 34: 'other', 35: 'are', 36: 'we', 37: 'rules', 38: 'as', 39: 'beings', 40: 'direct', 41: 'to', 42: 'computational'}\n"
          ]
        }
      ]
    },
    {
      "cell_type": "code",
      "source": [
        "data\t=\t[]\n",
        "for\ti\tin\trange(2,\tlen(words)\t-\t2):\n",
        "  context\t=\t[words[i\t-\t2],\twords[i\t-\t1],\twords[i\t+\t1],\twords[i\t+\t2]]\n",
        "  target\t=\twords[i]\n",
        "  data.append((context,\ttarget))\n",
        "print(data[:5])"
      ],
      "metadata": {
        "colab": {
          "base_uri": "https://localhost:8080/"
        },
        "id": "0nC-AELOIU6N",
        "outputId": "bb480f23-c3d5-45bd-b989-2f620b477252"
      },
      "execution_count": 9,
      "outputs": [
        {
          "output_type": "stream",
          "name": "stdout",
          "text": [
            "[(['we', 'are', 'to', 'study'], 'about'), (['are', 'about', 'study', 'the'], 'to'), (['about', 'to', 'the', 'idea'], 'study'), (['to', 'study', 'idea', 'of'], 'the'), (['study', 'the', 'of', 'computational'], 'idea')]\n"
          ]
        }
      ]
    },
    {
      "cell_type": "code",
      "source": [
        "embeddings\t=\t\tnp.random.random_sample((vocab_size,\tembed_dim))\n",
        "print(embeddings[:1])"
      ],
      "metadata": {
        "colab": {
          "base_uri": "https://localhost:8080/"
        },
        "id": "YQf_cU03IlF2",
        "outputId": "85337af1-afcc-4a65-a4e6-f74552d0dd91"
      },
      "execution_count": 10,
      "outputs": [
        {
          "output_type": "stream",
          "name": "stdout",
          "text": [
            "[[0.9373235  0.23550052 0.51077994 0.02275606 0.70711401 0.38645586\n",
            "  0.1376687  0.14926399 0.32014322 0.49359929]]\n"
          ]
        }
      ]
    },
    {
      "cell_type": "code",
      "source": [
        "def\tlinear(m,\ttheta):\n",
        " w\t=\ttheta\n",
        " return\tm.dot(w)"
      ],
      "metadata": {
        "id": "B7y1dTz2IpPZ"
      },
      "execution_count": 11,
      "outputs": []
    },
    {
      "cell_type": "code",
      "source": [
        "def\tlog_softmax(x):\n",
        " e_x\t=\tnp.exp(x\t-\tnp.max(x))\n",
        " return\tnp.log(e_x\t/\te_x.sum())"
      ],
      "metadata": {
        "id": "8NtFtueBIugf"
      },
      "execution_count": 12,
      "outputs": []
    },
    {
      "cell_type": "code",
      "source": [
        "def\tNLLLoss(logs,\ttargets):\n",
        " out\t=\tlogs[range(len(targets)),\ttargets]\n",
        " return\t-out.sum()/len(out)"
      ],
      "metadata": {
        "id": "NYJXJg9MI0iV"
      },
      "execution_count": 13,
      "outputs": []
    },
    {
      "cell_type": "code",
      "source": [
        "def\tlog_softmax_crossentropy_with_logits(logits,target):\n",
        " out\t=\tnp.zeros_like(logits)\n",
        " out[np.arange(len(logits)),target]\t=\t1\n",
        " softmax\t=\tnp.exp(logits)\t/\tnp.exp(logits).sum(axis=-1,keepdims=True)\n",
        " return\t(-\tout\t+\tsoftmax)\t/\tlogits.shape[0]"
      ],
      "metadata": {
        "id": "heVwPHn9I4Is"
      },
      "execution_count": 14,
      "outputs": []
    },
    {
      "cell_type": "code",
      "source": [
        "def\tforward(context_idxs,\ttheta):\n",
        " m\t=\tembeddings[context_idxs].reshape(1,\t-1)\n",
        " n\t=\tlinear(m,\ttheta)\n",
        " o\t=\tlog_softmax(n)\n",
        " return\tm,\tn,\to"
      ],
      "metadata": {
        "id": "tpKfK6lmI8RG"
      },
      "execution_count": 15,
      "outputs": []
    },
    {
      "cell_type": "code",
      "source": [
        "def\tbackward(preds,\ttheta,\ttarget_idxs):\n",
        " m,\tn,\to\t=\tpreds\n",
        " dlog\t=\tlog_softmax_crossentropy_with_logits(n,\ttarget_idxs)\n",
        " dw\t=\tm.T.dot(dlog)\n",
        " return\tdw"
      ],
      "metadata": {
        "id": "ScKu9VD2JABF"
      },
      "execution_count": 16,
      "outputs": []
    },
    {
      "cell_type": "code",
      "source": [
        "def\toptimize(theta,\tgrad,\tlr=0.03):\n",
        " theta\t-=\tgrad\t*\tlr\n",
        " return\ttheta"
      ],
      "metadata": {
        "id": "zjyXh_h3JEHQ"
      },
      "execution_count": 17,
      "outputs": []
    },
    {
      "cell_type": "code",
      "source": [
        "theta\t=\tnp.random.uniform(-1,\t1,\t(2\t*\tcontext_size\t*\tembed_dim,\tvocab_size))"
      ],
      "metadata": {
        "id": "l6AG7OyfJHuq"
      },
      "execution_count": 18,
      "outputs": []
    },
    {
      "cell_type": "code",
      "source": [
        "epoch_losses\t=\t{}\n",
        "for\tepoch\tin\trange(80):\n",
        "  losses\t=\t\t[]\n",
        "  for\tcontext,\ttarget\tin\tdata:\n",
        "    context_idxs\t=\tnp.array([word_to_ix[w]\tfor\tw\tin\tcontext])\n",
        "    preds\t=\tforward(context_idxs,\ttheta)\n",
        "    target_idxs\t=\tnp.array([word_to_ix[target]])\n",
        "    loss\t=\tNLLLoss(preds[-1],\ttarget_idxs)\n",
        "    losses.append(loss)\n",
        "    grad\t=\tbackward(preds,\ttheta,\ttarget_idxs)\n",
        "    theta\t=\toptimize(theta,\tgrad,\tlr=0.03)\n",
        "  epoch_losses[epoch]\t=\tlosses\n"
      ],
      "metadata": {
        "id": "--5hGc9LJMtO"
      },
      "execution_count": 19,
      "outputs": []
    },
    {
      "cell_type": "code",
      "source": [
        "ix\t=\tnp.arange(0,80)\n",
        "fig\t=\tplt.figure()\n",
        "fig.suptitle('Epoch/Losses',\tfontsize=20)\n",
        "plt.plot(ix,[epoch_losses[i][0]\tfor\ti\tin\tix])\n",
        "plt.xlabel('Epochs',\tfontsize=12)\n",
        "plt.ylabel('Losses',\tfontsize=12)"
      ],
      "metadata": {
        "colab": {
          "base_uri": "https://localhost:8080/",
          "height": 518
        },
        "id": "AMX2wdSSJtl3",
        "outputId": "34391db7-c946-402a-bb2e-cd72edf8ce92"
      },
      "execution_count": 20,
      "outputs": [
        {
          "output_type": "execute_result",
          "data": {
            "text/plain": [
              "Text(0, 0.5, 'Losses')"
            ]
          },
          "metadata": {},
          "execution_count": 20
        },
        {
          "output_type": "display_data",
          "data": {
            "text/plain": [
              "<Figure size 640x480 with 1 Axes>"
            ],
            "image/png": "[encoded data removed]"
          },
          "metadata": {}
        }
      ]
    },
    {
      "cell_type": "code",
      "source": [
        "def\tpredict(words):\n",
        " context_idxs\t=\tnp.array([word_to_ix[w]\tfor\tw\tin\twords])\n",
        " preds\t=\tforward(context_idxs,\ttheta)\n",
        " word\t=\tix_to_word[np.argmax(preds[-1])]\n",
        " return\tword"
      ],
      "metadata": {
        "id": "mj5VoV6uJ2AL"
      },
      "execution_count": 21,
      "outputs": []
    },
    {
      "cell_type": "code",
      "source": [
        "predict(['we',\t'are',\t'to',\t'study'])"
      ],
      "metadata": {
        "colab": {
          "base_uri": "https://localhost:8080/",
          "height": 36
        },
        "id": "6hl1afRHJ6lT",
        "outputId": "8b9561a8-5efd-4e3a-9eab-db1e68db55dd"
      },
      "execution_count": 22,
      "outputs": [
        {
          "output_type": "execute_result",
          "data": {
            "text/plain": [
              "'about'"
            ],
            "application/vnd.google.colaboratory.intrinsic+json": {
              "type": "string"
            }
          },
          "metadata": {},
          "execution_count": 22
        }
      ]
    },
    {
      "cell_type": "code",
      "source": [
        "def\taccuracy():\n",
        " wrong\t=\t0\n",
        " for\tcontext,\ttarget\tin\tdata:\n",
        "  if(predict(context)\t!=\ttarget):\n",
        "    wrong\t+=\t1\n",
        " return\t(1\t-\t(wrong\t/\tlen(data)))"
      ],
      "metadata": {
        "id": "ft-_X-UiKBr5"
      },
      "execution_count": 23,
      "outputs": []
    },
    {
      "cell_type": "code",
      "source": [
        "accuracy()"
      ],
      "metadata": {
        "colab": {
          "base_uri": "https://localhost:8080/"
        },
        "id": "nQL6-C5aKKHk",
        "outputId": "7c89fc9f-a155-420b-b03c-f9707ae22180"
      },
      "execution_count": 24,
      "outputs": [
        {
          "output_type": "execute_result",
          "data": {
            "text/plain": [
              "1.0"
            ]
          },
          "metadata": {},
          "execution_count": 24
        }
      ]
    },
    {
      "cell_type": "code",
      "source": [
        "predict(['processes',\t'manipulate',\t'things',\t'study'])"
      ],
      "metadata": {
        "colab": {
          "base_uri": "https://localhost:8080/",
          "height": 36
        },
        "id": "SJRQcIKXKOTN",
        "outputId": "29f9fc8c-141f-4c29-889e-63a93f3adbf7"
      },
      "execution_count": 25,
      "outputs": [
        {
          "output_type": "execute_result",
          "data": {
            "text/plain": [
              "'other'"
            ],
            "application/vnd.google.colaboratory.intrinsic+json": {
              "type": "string"
            }
          },
          "metadata": {},
          "execution_count": 25
        }
      ]
    },
    {
      "cell_type": "code",
      "source": [
        "predict(['are',\t'about',\t'study',\t'the'])"
      ],
      "metadata": {
        "colab": {
          "base_uri": "https://localhost:8080/",
          "height": 36
        },
        "id": "udIWNWRfKSX-",
        "outputId": "1bcf4f23-07d3-4031-c1c9-4247f3a231f8"
      },
      "execution_count": 26,
      "outputs": [
        {
          "output_type": "execute_result",
          "data": {
            "text/plain": [
              "'to'"
            ],
            "application/vnd.google.colaboratory.intrinsic+json": {
              "type": "string"
            }
          },
          "metadata": {},
          "execution_count": 26
        }
      ]
    },
    {
      "cell_type": "code",
      "source": [
        "predict(['processes', 'computers', 'spells', 'is'])"
      ],
      "metadata": {
        "colab": {
          "base_uri": "https://localhost:8080/",
          "height": 36
        },
        "id": "4_hDfuBMKjWW",
        "outputId": "1ffdbf3b-8957-4f44-861a-d0189efc05ab"
      },
      "execution_count": 28,
      "outputs": [
        {
          "output_type": "execute_result",
          "data": {
            "text/plain": [
              "'of'"
            ],
            "application/vnd.google.colaboratory.intrinsic+json": {
              "type": "string"
            }
          },
          "metadata": {},
          "execution_count": 28
        }
      ]
    },
    {
      "cell_type": "code",
      "source": [
        "predict(['effect', 'spirits', 'data', 'pattern'])"
      ],
      "metadata": {
        "colab": {
          "base_uri": "https://localhost:8080/",
          "height": 36
        },
        "id": "SH_mw-n8LJA6",
        "outputId": "09827c9b-88b8-423a-869d-f5c56a4f732c"
      },
      "execution_count": 29,
      "outputs": [
        {
          "output_type": "execute_result",
          "data": {
            "text/plain": [
              "'processes'"
            ],
            "application/vnd.google.colaboratory.intrinsic+json": {
              "type": "string"
            }
          },
          "metadata": {},
          "execution_count": 29
        }
      ]
    },
    {
      "cell_type": "code",
      "source": [],
      "metadata": {
        "id": "QJBHhBbFLKC9"
      },
      "execution_count": null,
      "outputs": []
    },
    {
      "cell_type": "code",
      "source": [],
      "metadata": {
        "id": "-hPPG6HMLGoA"
      },
      "execution_count": null,
      "outputs": []
    }
  ]
}